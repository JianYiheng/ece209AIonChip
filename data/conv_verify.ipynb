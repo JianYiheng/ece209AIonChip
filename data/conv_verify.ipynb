{
 "cells": [
  {
   "cell_type": "code",
   "execution_count": 1,
   "metadata": {},
   "outputs": [],
   "source": [
    "import numpy as np\n",
    "from dataclasses import dataclass"
   ]
  },
  {
   "cell_type": "code",
   "execution_count": 2,
   "metadata": {},
   "outputs": [],
   "source": [
    "DATA_W_H, DATA_W_W, DATA_W_OC, DATA_W_IC = (3, 3, 8, 64)\n",
    "DATA_IFM_H, DATA_IFM_W, DATA_IFM_IC = (34, 34, 64)\n",
    "DATA_OFM_H, DATA_OFM_W, DATA_OFM_OC = (32, 32, 8)"
   ]
  },
  {
   "cell_type": "code",
   "execution_count": 3,
   "metadata": {},
   "outputs": [],
   "source": [
    "# conv_input_wl8_fl5 = np.round(np.random.uniform(low=-4, high=3.96875, size=(1, 64, 34, 34))*2**5)/2**5\n",
    "# conv_kernel_wl8_fl7 = np.round(np.random.uniform(low=-1, high=1-1/2**7, size=(64, 3, 3, 8))*2**7)/2**7\n",
    "# np.save(\"conv_input_wl8_fl5.npy\", conv_input_wl8_fl5)\n",
    "# np.save(\"conv_kernel_wl8_fl7.npy\", conv_kernel_wl8_fl7)"
   ]
  },
  {
   "cell_type": "code",
   "execution_count": 4,
   "metadata": {},
   "outputs": [],
   "source": [
    "def getData():\n",
    "    data_ifm = np.load(\"conv_input_wl8_fl5.npy\")\n",
    "    data_ker = np.load(\"conv_kernel_wl8_fl7.npy\")\n",
    "    data_ofm = np.load(\"conv_out.npy\")\n",
    "\n",
    "    return data_ifm, data_ker, data_ofm"
   ]
  },
  {
   "cell_type": "code",
   "execution_count": 9,
   "metadata": {},
   "outputs": [],
   "source": [
    "def baseline(data_ifm, data_ker):\n",
    "\n",
    "    _, ifm_c, ifm_n, ifm_m = data_ifm.shape\n",
    "    ker_ic, ker_y, ker_x, ker_oc = data_ker.shape\n",
    "\n",
    "    ofm_n = ofm_m = ifm_n - ker_y + 1\n",
    "    ofm_c = ker_oc\n",
    "\n",
    "    print(\"ifm shape: {}*{}*{}\\n\".format(ifm_c, ifm_n, ifm_m))\n",
    "    print(\"ker shape: {}*{}*{}*{}\\n\".format(ker_ic, ker_y, ker_x, ker_oc))\n",
    "    print(\"ofm shape: {}*{}*{}\\n\".format(ofm_c, ofm_n, ofm_m))\n",
    "\n",
    "    data_ofm = np.zeros((1, ofm_c, ofm_n, ofm_m))\n",
    "\n",
    "    for oc in range(ofm_c):\n",
    "        for nn in range(ofm_n):\n",
    "            for mm in range(ofm_m):\n",
    "                for ic in range(ker_ic):\n",
    "                    for yy in range(ker_y):\n",
    "                        for xx in range(ker_x):\n",
    "                            data_ofm[0][oc][nn][mm] += data_ker[ic][yy][xx][oc] * data_ifm[0][ic][nn+yy][mm+xx]\n",
    "\n",
    "    return np.transpose(data_ofm, (0, 2, 3, 1))"
   ]
  },
  {
   "cell_type": "code",
   "execution_count": 10,
   "metadata": {},
   "outputs": [],
   "source": [
    "def opuOrig(data_ifm, data_ker):\n",
    "\n",
    "    _, ifm_c, ifm_n, ifm_m = data_ifm.shape\n",
    "    ker_ic, ker_y, ker_x, ker_oc = data_ker.shape\n",
    "\n",
    "    ofm_n = ofm_m = ifm_n - ker_y + 1\n",
    "    ofm_c = ker_oc\n",
    "\n",
    "    # print(\"ifm shape: {}*{}*{}\\n\".format(ifm_c, ifm_n, ifm_m))\n",
    "    # print(\"ker shape: {}*{}*{}*{}\\n\".format(ker_ic, ker_y, ker_x, ker_oc))\n",
    "    # print(\"ofm shape: {}*{}*{}\\n\".format(ofm_c, ofm_n, ofm_m))\n",
    "    data_opu = np.zeros((1, ofm_c, ofm_n, ofm_m))\n",
    "\n",
    "    for oc in range(ker_oc):\n",
    "        for yy in range(ker_y):\n",
    "            for xx in range(ker_x):\n",
    "                # compute all ifm corresponding to kernel[yy][xx]\n",
    "                for ic in range(ker_ic):\n",
    "                    # ic could be compute in parallel\n",
    "                    for nn in range(ofm_n):\n",
    "                        for mm in range(ofm_m):\n",
    "                            conv_out = data_ker[ic][yy][xx][oc] * data_ifm[0][ic][nn+yy][mm+xx]\n",
    "                            data_opu[0][oc][nn][mm] += conv_out\n",
    "    return np.transpose(data_opu, (0, 2, 3, 1))"
   ]
  },
  {
   "cell_type": "code",
   "execution_count": 11,
   "metadata": {},
   "outputs": [],
   "source": [
    "def ddrInit(data_ifm, data_ker):\n",
    "    _, ifm_c, ifm_n, ifm_m = data_ifm.shape\n",
    "    ker_ic, ker_y, ker_x, ker_oc = data_ker.shape\n",
    "\n",
    "    ofm_n = ofm_m = ifm_n - ker_y + 1\n",
    "    ofm_c = ker_oc\n",
    "\n",
    "    ddr_ifm = np.transpose(data_ifm, (0, 2, 3, 1)).flatten()\n",
    "    ddr_ker = np.transpose(data_ker, (1, 2, 3, 0)).flatten()\n",
    "\n",
    "    return ddr_ifm, ddr_ker"
   ]
  },
  {
   "cell_type": "code",
   "execution_count": 12,
   "metadata": {},
   "outputs": [],
   "source": [
    "def MU(FM, W1, W2):\n",
    "    return FM*W1, FM*W2"
   ]
  },
  {
   "cell_type": "code",
   "execution_count": 13,
   "metadata": {},
   "outputs": [],
   "source": [
    "def PE(pe_FM, pe_W1, pe_W2):\n",
    "    mu_res0 = np.zeros(16)\n",
    "    mu_res1 = np.zeros(16)\n",
    "    for mu in range(16):\n",
    "        mu_res0[mu], mu_res1[mu] = MU(pe_FM[mu], pe_W1[mu], pe_W2[mu])\n",
    "\n",
    "    add0_lv3 = np.zeros(2**3)\n",
    "    add0_lv2 = np.zeros(2**2)\n",
    "    add0_lv1 = np.zeros(2**1)\n",
    "    add0_lv0 = 0\n",
    "\n",
    "    add1_lv3 = np.zeros(2**3)\n",
    "    add1_lv2 = np.zeros(2**2)\n",
    "    add1_lv1 = np.zeros(2**1)\n",
    "    add1_lv0 = 0\n",
    "\n",
    "    for adder in range(2**3):\n",
    "        add0_lv3[adder] = mu_res0[2*adder] + mu_res0[2*adder+1]\n",
    "        add1_lv3[adder] = mu_res1[2*adder] + mu_res1[2*adder+1]\n",
    "\n",
    "    for adder in range(2**2):\n",
    "        add0_lv2[adder] = add0_lv3[2*adder] + add0_lv3[2*adder+1]\n",
    "        add1_lv2[adder] = add1_lv3[2*adder] + add1_lv3[2*adder+1]\n",
    "    \n",
    "    for adder in range(2**1):\n",
    "        add0_lv1[adder] = add0_lv2[2*adder] + add0_lv2[2*adder+1]\n",
    "        add1_lv1[adder] = add1_lv2[2*adder] + add1_lv2[2*adder+1]\n",
    "    \n",
    "    for adder in range(2**0):\n",
    "        add0_lv0 = add0_lv1[2*adder] + add0_lv1[2*adder+1]\n",
    "        add1_lv0 = add1_lv1[2*adder] + add1_lv1[2*adder+1]\n",
    "\n",
    "    fm_w0 = add0_lv0\n",
    "    fm_w1 = add1_lv0\n",
    "\n",
    "    return fm_w0, fm_w1"
   ]
  },
  {
   "cell_type": "code",
   "execution_count": 14,
   "metadata": {},
   "outputs": [],
   "source": [
    "def ComputationUnit(cu_FM, cu_W1, cu_W2):\n",
    "    pe_res0 = np.zeros(16)\n",
    "    pe_res1 = np.zeros(16)\n",
    "    for pe in range(16):\n",
    "#         breakpoint()\n",
    "        pe_res0[pe], pe_res1[pe] = PE(cu_FM[pe*16: pe*16+16], cu_W1[pe*16: pe*16+16], cu_W2[pe*16: pe*16+16])\n",
    "\n",
    "    add0_lv3 = np.zeros(2**3)\n",
    "    add0_lv2 = np.zeros(2**2)\n",
    "    add0_lv1 = np.zeros(2**1)\n",
    "    add0_lv0 = 0\n",
    "\n",
    "    add1_lv3 = np.zeros(2**3)\n",
    "    add1_lv2 = np.zeros(2**2)\n",
    "    add1_lv1 = np.zeros(2**1)\n",
    "    add1_lv0 = 0\n",
    "\n",
    "    for adder in range(2**3):\n",
    "        add0_lv3[adder] = pe_res0[2*adder] + pe_res0[2*adder+1]\n",
    "        add1_lv3[adder] = pe_res1[2*adder] + pe_res1[2*adder+1]\n",
    "\n",
    "    for adder in range(2**2):\n",
    "        add0_lv2[adder] = add0_lv3[2*adder] + add0_lv3[2*adder+1]\n",
    "        add1_lv2[adder] = add1_lv3[2*adder] + add1_lv3[2*adder+1]\n",
    "    \n",
    "    for adder in range(2**1):\n",
    "        add0_lv1[adder] = add0_lv2[2*adder] + add0_lv2[2*adder+1]\n",
    "        add1_lv1[adder] = add1_lv2[2*adder] + add1_lv2[2*adder+1]\n",
    "    \n",
    "    for adder in range(2**0):\n",
    "        add0_lv0 = add0_lv1[2*adder] + add0_lv1[2*adder+1]\n",
    "        add1_lv0 = add1_lv1[2*adder] + add1_lv1[2*adder+1]\n",
    "\n",
    "    fm_w0 = add0_lv0\n",
    "    fm_w1 = add1_lv0\n",
    "\n",
    "    fm_w0_64 = add0_lv2\n",
    "    fm_w1_64 = add1_lv2\n",
    "\n",
    "#     return np.column_stack((fm_w0_64, fm_w1_64)).flatten()\n",
    "    return np.concatenate([fm_w0_64, fm_w1_64])"
   ]
  },
  {
   "cell_type": "code",
   "execution_count": 15,
   "metadata": {},
   "outputs": [],
   "source": [
    "def opuConv(ddr_ifm, ddr_ker):\n",
    "    ifm_len = len(ddr_ifm)\n",
    "    ker_len = len(ddr_ker)\n",
    "    ddr_ofm = np.zeros(32*32*8)\n",
    "\n",
    "    for blk_ker_n in range(3):\n",
    "        for blk_ker_m in range(3):\n",
    "            blk_ker_num = (blk_ker_n*3+blk_ker_m)*8*64\n",
    "            blk_ker = ddr_ker[blk_ker_num: blk_ker_num+512]\n",
    "            for blk_ofm_n in range(32):\n",
    "                for blk_ofm_m in range(32):\n",
    "                    blk_ifm_num = ((blk_ofm_n+blk_ker_n)*34+(blk_ofm_m+blk_ker_m))*64\n",
    "                    blk_ofm_num = blk_ofm_n*32*8 + blk_ofm_m*8\n",
    "                    \n",
    "                    blk_ifm = np.tile(ddr_ifm[blk_ifm_num: blk_ifm_num+64], 4)\n",
    "                    cu_Res = ComputationUnit(blk_ifm, blk_ker[:256], blk_ker[256:])\n",
    "                    ddr_ofm[blk_ofm_num: blk_ofm_num+8] += cu_Res\n",
    "    \n",
    "    return ddr_ofm"
   ]
  },
  {
   "cell_type": "code",
   "execution_count": 16,
   "metadata": {},
   "outputs": [],
   "source": [
    "def opuConvTest(ddr_ifm, ddr_ker):\n",
    "    ifm_len = len(ddr_ifm)\n",
    "    ker_len = len(ddr_ker)\n",
    "    ddr_ofm = np.zeros((3, 3, 32*32*8))\n",
    "\n",
    "    for blk_ker_n in range(3):\n",
    "        for blk_ker_m in range(3):\n",
    "            blk_ker_num = (blk_ker_n*3+blk_ker_m)*8*64\n",
    "            blk_ker = ddr_ker[blk_ker_num: blk_ker_num+8*64]\n",
    "            for blk_ofm_n in range(32):\n",
    "                for blk_ofm_m in range(32):\n",
    "                    blk_ifm_num = ((blk_ofm_n+blk_ker_n)*34+(blk_ofm_m+blk_ker_m))*64\n",
    "                    blk_ofm_num = blk_ofm_n*32*8 + blk_ofm_m*8\n",
    "                    \n",
    "                    blk_ifm = np.tile(ddr_ifm[blk_ifm_num: blk_ifm_num+64], 4)\n",
    "                    cu_Res = ComputationUnit(blk_ifm, blk_ker[:256], blk_ker[256:])\n",
    "                    ddr_ofm[blk_ker_n][blk_ker_m][blk_ofm_num: blk_ofm_num+8] = cu_Res\n",
    "    \n",
    "    return ddr_ofm"
   ]
  },
  {
   "cell_type": "code",
   "execution_count": 17,
   "metadata": {},
   "outputs": [],
   "source": [
    "def verify(data_ofm, data_res):\n",
    "    return (data_ofm-data_res).var()"
   ]
  },
  {
   "cell_type": "code",
   "execution_count": 18,
   "metadata": {},
   "outputs": [],
   "source": [
    "data_ifm, data_ker, data_ofm = getData()\n",
    "\n",
    "_, ifm_c, ifm_n, ifm_m = data_ifm.shape\n",
    "ker_ic, ker_y, ker_x, ker_oc = data_ker.shape\n",
    "\n",
    "ofm_n = ofm_m = ifm_n - ker_y + 1\n",
    "ofm_c = ker_oc"
   ]
  },
  {
   "cell_type": "code",
   "execution_count": 19,
   "metadata": {},
   "outputs": [
    {
     "name": "stdout",
     "output_type": "stream",
     "text": [
      "ifm shape: 64*34*34\n",
      "\n",
      "ker shape: 64*3*3*8\n",
      "\n",
      "ofm shape: 8*32*32\n",
      "\n"
     ]
    }
   ],
   "source": [
    "ofm_base = baseline(data_ifm, data_ker)\n",
    "ofm_opuOrig = opuOrig(data_ifm, data_ker)"
   ]
  },
  {
   "cell_type": "code",
   "execution_count": 16,
   "metadata": {},
   "outputs": [
    {
     "name": "stdout",
     "output_type": "stream",
     "text": [
      "Automatic pdb calling has been turned ON\n"
     ]
    }
   ],
   "source": [
    "%pdb on"
   ]
  },
  {
   "cell_type": "code",
   "execution_count": 20,
   "metadata": {},
   "outputs": [],
   "source": [
    "ddr_ifm, ddr_ker = ddrInit(data_ifm, data_ker)"
   ]
  },
  {
   "cell_type": "code",
   "execution_count": 21,
   "metadata": {},
   "outputs": [],
   "source": [
    "ddr_ofm = opuConv(ddr_ifm, ddr_ker)"
   ]
  },
  {
   "cell_type": "code",
   "execution_count": 19,
   "metadata": {},
   "outputs": [],
   "source": [
    "ddr_ofm_test = opuConvTest(ddr_ifm, ddr_ker)"
   ]
  },
  {
   "cell_type": "code",
   "execution_count": 20,
   "metadata": {},
   "outputs": [
    {
     "name": "stdout",
     "output_type": "stream",
     "text": [
      "0.0\n",
      "0.0\n",
      "0.0\n"
     ]
    }
   ],
   "source": [
    "print(verify(ddr_ofm, ofm_base.flatten()))\n",
    "print(verify(ddr_ofm, ofm_opuOrig.flatten()))\n",
    "print(verify(ofm_base.flatten(), ofm_opuOrig.flatten()))"
   ]
  },
  {
   "cell_type": "code",
   "execution_count": null,
   "metadata": {},
   "outputs": [],
   "source": []
  },
  {
   "cell_type": "code",
   "execution_count": 21,
   "metadata": {},
   "outputs": [],
   "source": [
    "data_ifm_tran = np.transpose(data_ifm, (0, 2, 3, 1))\n",
    "data_ker_tran = np.transpose(data_ker, (1, 2, 3, 0))"
   ]
  },
  {
   "cell_type": "code",
   "execution_count": 22,
   "metadata": {},
   "outputs": [
    {
     "data": {
      "text/plain": "array([-11.89892578,   7.40649414,   5.32202148,   2.45703125,\n         1.86401367,  27.46411133,   6.77148438,  -6.59716797])"
     },
     "execution_count": 22,
     "metadata": {},
     "output_type": "execute_result"
    }
   ],
   "source": [
    "ddr_ofm_test[0][0][8:16]"
   ]
  },
  {
   "cell_type": "code",
   "execution_count": 23,
   "metadata": {},
   "outputs": [
    {
     "data": {
      "text/plain": "(8, 64)"
     },
     "execution_count": 23,
     "metadata": {},
     "output_type": "execute_result"
    }
   ],
   "source": [
    "(data_ker_tran[0][0]*data_ifm_tran[0][0][0]).shape"
   ]
  },
  {
   "cell_type": "code",
   "execution_count": 24,
   "metadata": {},
   "outputs": [],
   "source": [
    "tmp_full = np.zeros((3, 3, 32*32*8))\n",
    "for yy in range(3):\n",
    "    for xx in range(3):\n",
    "        for nn in range(32):\n",
    "            for mm in range(32):\n",
    "                for oc in range(8):\n",
    "                    tmp_full[yy][xx][nn*32*8+mm*8+oc] = np.sum(np.multiply(data_ifm_tran[0][nn+yy][mm+xx], data_ker_tran[yy][xx][oc]))"
   ]
  },
  {
   "cell_type": "code",
   "execution_count": 25,
   "metadata": {},
   "outputs": [
    {
     "data": {
      "text/plain": "array([[[ True,  True,  True, ...,  True,  True,  True],\n        [ True,  True,  True, ...,  True,  True,  True],\n        [ True,  True,  True, ...,  True,  True,  True]],\n\n       [[ True,  True,  True, ...,  True,  True,  True],\n        [ True,  True,  True, ...,  True,  True,  True],\n        [ True,  True,  True, ...,  True,  True,  True]],\n\n       [[ True,  True,  True, ...,  True,  True,  True],\n        [ True,  True,  True, ...,  True,  True,  True],\n        [ True,  True,  True, ...,  True,  True,  True]]])"
     },
     "execution_count": 25,
     "metadata": {},
     "output_type": "execute_result"
    }
   ],
   "source": [
    "tmp_full == ddr_ofm_test"
   ]
  },
  {
   "cell_type": "code",
   "execution_count": 26,
   "metadata": {},
   "outputs": [],
   "source": [
    "blk_ker_n = 0\n",
    "blk_ker_m = 1"
   ]
  },
  {
   "cell_type": "code",
   "execution_count": 27,
   "metadata": {},
   "outputs": [],
   "source": [
    "blk_ker_num = (blk_ker_n*3+blk_ker_m)*8*64\n",
    "blk_ker = ddr_ker[blk_ker_num: blk_ker_num+8*64]"
   ]
  },
  {
   "cell_type": "code",
   "execution_count": 28,
   "metadata": {},
   "outputs": [],
   "source": [
    "# data_ker_tran[0][1].flatten() == blk_ker"
   ]
  },
  {
   "cell_type": "code",
   "execution_count": 29,
   "metadata": {},
   "outputs": [
    {
     "data": {
      "text/plain": "array([  0.796875  ,  -5.18603516, -15.1394043 ,  -5.32104492,\n         0.98925781, -19.68798828,  31.37573242, -22.77661133])"
     },
     "metadata": {},
     "output_type": "display_data"
    }
   ],
   "source": [
    "tmp = np.sum(data_ker_tran[0][0]*data_ifm_tran[0][0][0], axis=1)\n",
    "display(tmp)"
   ]
  }
 ],
 "metadata": {
  "kernelspec": {
   "display_name": "Python 3.9.5 64-bit ('cocotb': venv)",
   "name": "python395jvsc74a57bd0db54ad3771e1eb607b9b726827e26fcda2a6cf495455024e1b56f6838a5050e1"
  },
  "language_info": {
   "name": "python",
   "version": ""
  },
  "metadata": {
   "interpreter": {
    "hash": "db54ad3771e1eb607b9b726827e26fcda2a6cf495455024e1b56f6838a5050e1"
   }
  }
 },
 "nbformat": 4,
 "nbformat_minor": 4
}